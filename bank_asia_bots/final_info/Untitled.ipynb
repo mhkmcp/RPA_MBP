{
 "cells": [
  {
   "cell_type": "code",
   "execution_count": 10,
   "metadata": {},
   "outputs": [
    {
     "ename": "AttributeError",
     "evalue": "'WebElement' object has no attribute 'sendkeys'",
     "output_type": "error",
     "traceback": [
      "\u001b[1;31m---------------------------------------------------------------------------\u001b[0m",
      "\u001b[1;31mAttributeError\u001b[0m                            Traceback (most recent call last)",
      "\u001b[1;32m<ipython-input-10-dd0d617207c0>\u001b[0m in \u001b[0;36m<module>\u001b[1;34m\u001b[0m\n\u001b[0;32m     27\u001b[0m     \u001b[1;32mexcept\u001b[0m\u001b[1;33m:\u001b[0m\u001b[1;33m\u001b[0m\u001b[1;33m\u001b[0m\u001b[0m\n\u001b[0;32m     28\u001b[0m         \u001b[1;32mpass\u001b[0m\u001b[1;33m\u001b[0m\u001b[1;33m\u001b[0m\u001b[0m\n\u001b[1;32m---> 29\u001b[1;33m     \u001b[0mbrowser\u001b[0m\u001b[1;33m.\u001b[0m\u001b[0mfind_element_by_id\u001b[0m\u001b[1;33m(\u001b[0m\u001b[1;34m\"P826_BROWSE\"\u001b[0m\u001b[1;33m)\u001b[0m\u001b[1;33m.\u001b[0m\u001b[0msendkeys\u001b[0m\u001b[1;33m(\u001b[0m\u001b[0mrow\u001b[0m\u001b[1;33m[\u001b[0m\u001b[1;34m\"NID_PATH\"\u001b[0m\u001b[1;33m]\u001b[0m\u001b[1;33m)\u001b[0m\u001b[1;33m\u001b[0m\u001b[1;33m\u001b[0m\u001b[0m\n\u001b[0m\u001b[0;32m     30\u001b[0m \u001b[0mbrowser\u001b[0m\u001b[1;33m.\u001b[0m\u001b[0mquit\u001b[0m\u001b[1;33m(\u001b[0m\u001b[1;33m)\u001b[0m\u001b[1;33m\u001b[0m\u001b[1;33m\u001b[0m\u001b[0m\n\u001b[0;32m     31\u001b[0m \u001b[1;33m\u001b[0m\u001b[0m\n",
      "\u001b[1;31mAttributeError\u001b[0m: 'WebElement' object has no attribute 'sendkeys'"
     ]
    }
   ],
   "source": [
    "from selenium import webdriver\n",
    "\n",
    "import pandas as pd\n",
    "\n",
    "\n",
    "df_final_status = pd.read_csv(r\"F:\\bank_asia_selenium\\final_info\\final_status.csv\")\n",
    "\n",
    "browser = webdriver.Chrome(r'F:\\bank_asia_selenium\\chromedriver')\n",
    "browser.maximize_window()\n",
    "\n",
    "\n",
    "aml_button_xpath=r'//*[@id=\"P826_AML_CHECK_0\"]'\n",
    "live_pic_button_xpath=r'//*[@id=\"P826_PHOTO_CHECK_0\"]'\n",
    "sign_card_button_xpath = r'//*[@id=\"P826_SIG_CHECK_0\"]'\n",
    "nom_img_xpath = r'//*[@id=\"P826_NOM_CHECK_0\"]'\n",
    "nid_xpath = r'//*[@id=\"P826_NID_CHECK_0\"]'\n",
    "\n",
    "\n",
    "for index, row in df_final_status.iterrows():\n",
    "    browser.get(row[\"URLS\"])\n",
    "    browser.find_element_by_xpath(aml_button_xpath).click()\n",
    "    browser.find_element_by_xpath(live_pic_button_xpath).click()\n",
    "    browser.find_element_by_xpath(sign_card_button_xpath).click()\n",
    "    try:\n",
    "        browser.find_element_by_xpath(nom_img_xpath).click()\n",
    "        browser.find_element_by_xpath(nid_xpath).click()\n",
    "    except:\n",
    "        pass\n",
    "    browser.find_element_by_id(\"P826_BROWSE\").sendkeys(row[\"NID_PATH\"])\n",
    "browser.quit()\n",
    "    \n",
    "    \n",
    "\n"
   ]
  },
  {
   "cell_type": "code",
   "execution_count": null,
   "metadata": {},
   "outputs": [],
   "source": []
  }
 ],
 "metadata": {
  "kernelspec": {
   "display_name": "Python 3",
   "language": "python",
   "name": "python3"
  },
  "language_info": {
   "codemirror_mode": {
    "name": "ipython",
    "version": 3
   },
   "file_extension": ".py",
   "mimetype": "text/x-python",
   "name": "python",
   "nbconvert_exporter": "python",
   "pygments_lexer": "ipython3",
   "version": "3.6.8"
  }
 },
 "nbformat": 4,
 "nbformat_minor": 2
}
